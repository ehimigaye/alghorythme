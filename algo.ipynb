{
 "cells": [
  {
   "cell_type": "code",
   "execution_count": 1,
   "id": "1ba75361",
   "metadata": {},
   "outputs": [
    {
     "data": {
      "text/plain": [
       "81"
      ]
     },
     "execution_count": 1,
     "metadata": {},
     "output_type": "execute_result"
    }
   ],
   "source": [
    "#Question 2:\n",
    "# faisons une fonction qui donne le puissance d' un nombre b en a:\n",
    "def power(a,b):\n",
    "    return a**b\n",
    "power(3,4)"
   ]
  },
  {
   "cell_type": "code",
   "execution_count": 2,
   "id": "3ee64ce6",
   "metadata": {},
   "outputs": [
    {
     "name": "stdout",
     "output_type": "stream",
     "text": [
      "9\n",
      "[13, 22, 29, 37, 49, 46, 52, 56, 71]\n"
     ]
    }
   ],
   "source": [
    "#Question 3:\n",
    "a = [29,13,22,37,52,49,46,71,56]\n",
    "A = len(a)\n",
    "print(A)\n",
    "#faison une double boucle dont la premiere s' occupe des iterations de la liste et ensuite une boucle qui s' occupe du tri les elements deux par deux\n",
    "for i in range (A):\n",
    "    for j in range (A-i-1):\n",
    "        if a[i]>a[i+1]:\n",
    "            #remplacons si la condition est respectée les valeurs triees\n",
    "            c = a[i+1]\n",
    "            a[i+1] = a[i]\n",
    "            a[i] = c\n",
    "print(a)"
   ]
  },
  {
   "cell_type": "code",
   "execution_count": 9,
   "id": "16d36e23",
   "metadata": {},
   "outputs": [
    {
     "name": "stdout",
     "output_type": "stream",
     "text": [
      "[29, 13, 22, 37]\n",
      "[52, 49, 46, 71, 56]\n",
      "[29, 52, 13, 49, 22, 46, 37, 71, 29, 52, 13, 49, 22, 46, 37, 71, 29, 52, 13, 49, 22, 46, 37, 71, 29, 52, 13, 49, 22, 46, 37, 71]\n"
     ]
    }
   ],
   "source": [
    "z = [29,13,22,37,52,49,46,71,56]\n",
    "Z = []\n",
    "p = len(z)//2\n",
    "z1 = z[:p]\n",
    "print(z1)\n",
    "z2 = z[p:]\n",
    "print(z2)\n",
    "if z[i] <= z2[i]:\n",
    "    [z1[]]\n",
    "        "
   ]
  },
  {
   "cell_type": "code",
   "execution_count": 19,
   "id": "2f521df2",
   "metadata": {},
   "outputs": [
    {
     "name": "stdout",
     "output_type": "stream",
     "text": [
      "[13, 22, 29, 37] [46, 49, 52, 56, 71]\n"
     ]
    },
    {
     "data": {
      "text/plain": [
       "[13, 22, 29, 37, 46, 49, 52, 56, 71]"
      ]
     },
     "execution_count": 19,
     "metadata": {},
     "output_type": "execute_result"
    }
   ],
   "source": [
    "#Question 4: \n",
    "#reponse vu sur le net \n",
    "z = [13, 22, 29, 37, 46, 49, 52, 56, 71]\n",
    "p = len(z)//2 \n",
    "z1 = z[:p]\n",
    "z2 = z[p:]\n",
    "print(z1,z2)\n",
    "def tri(z1,z2):\n",
    "    if len(z1) == 0:\n",
    "        return z2\n",
    "    elif len(z2) == 0:\n",
    "        return z1\n",
    "    elif z1[0] <= z2[0]:\n",
    "        return [z1[0]] + tri( z1[1:] , z2 )\n",
    "    else:\n",
    "        return [z2[0]] + tri(z1,  z2[1:]) \n",
    "tri(z1,z2)\n"
   ]
  },
  {
   "cell_type": "code",
   "execution_count": 1,
   "id": "74badf63",
   "metadata": {},
   "outputs": [
    {
     "ename": "TypeError",
     "evalue": "list indices must be integers or slices, not float",
     "output_type": "error",
     "traceback": [
      "\u001b[1;31m---------------------------------------------------------------------------\u001b[0m",
      "\u001b[1;31mTypeError\u001b[0m                                 Traceback (most recent call last)",
      "\u001b[1;32m~\\AppData\\Local\\Temp\\ipykernel_9884\\4226265457.py\u001b[0m in \u001b[0;36m<module>\u001b[1;34m\u001b[0m\n\u001b[0;32m      5\u001b[0m \u001b[0mdroite\u001b[0m \u001b[1;33m=\u001b[0m \u001b[1;36m0\u001b[0m\u001b[1;33m\u001b[0m\u001b[1;33m\u001b[0m\u001b[0m\n\u001b[0;32m      6\u001b[0m \u001b[1;32mwhile\u001b[0m \u001b[0mgauche\u001b[0m  \u001b[1;33m<=\u001b[0m \u001b[0mdroite\u001b[0m\u001b[1;33m:\u001b[0m\u001b[1;33m\u001b[0m\u001b[1;33m\u001b[0m\u001b[0m\n\u001b[1;32m----> 7\u001b[1;33m     \u001b[1;32mif\u001b[0m \u001b[0mq\u001b[0m\u001b[1;33m[\u001b[0m\u001b[0mmilieu\u001b[0m\u001b[1;33m]\u001b[0m \u001b[1;33m<\u001b[0m \u001b[0mm\u001b[0m\u001b[1;33m:\u001b[0m\u001b[1;33m\u001b[0m\u001b[1;33m\u001b[0m\u001b[0m\n\u001b[0m\u001b[0;32m      8\u001b[0m             \u001b[0mlow\u001b[0m \u001b[1;33m=\u001b[0m \u001b[0mmid\u001b[0m \u001b[1;33m+\u001b[0m \u001b[1;36m1\u001b[0m\u001b[1;33m\u001b[0m\u001b[1;33m\u001b[0m\u001b[0m\n\u001b[0;32m      9\u001b[0m     \u001b[1;32melif\u001b[0m \u001b[0mq\u001b[0m\u001b[1;33m[\u001b[0m\u001b[0mmilieu\u001b[0m\u001b[1;33m]\u001b[0m \u001b[1;33m>\u001b[0m \u001b[0mx\u001b[0m\u001b[1;33m:\u001b[0m\u001b[1;33m\u001b[0m\u001b[1;33m\u001b[0m\u001b[0m\n",
      "\u001b[1;31mTypeError\u001b[0m: list indices must be integers or slices, not float"
     ]
    }
   ],
   "source": [
    "q = [1,2,3,5,8]\n",
    "milieu = len(q)/2-1\n",
    "m = 6\n",
    "gauche = 0\n",
    "droite = 0 \n",
    "while gauche  <= droite:\n",
    "    if q[milieu] < m:\n",
    "            low = mid + 1\n",
    "    elif q[milieu] > x:\n",
    "            high = m - 1\n",
    "    else:\n",
    "            print(true) "
   ]
  },
  {
   "cell_type": "code",
   "execution_count": null,
   "id": "482aea4a",
   "metadata": {},
   "outputs": [],
   "source": []
  }
 ],
 "metadata": {
  "kernelspec": {
   "display_name": "Python 3 (ipykernel)",
   "language": "python",
   "name": "python3"
  },
  "language_info": {
   "codemirror_mode": {
    "name": "ipython",
    "version": 3
   },
   "file_extension": ".py",
   "mimetype": "text/x-python",
   "name": "python",
   "nbconvert_exporter": "python",
   "pygments_lexer": "ipython3",
   "version": "3.9.13"
  }
 },
 "nbformat": 4,
 "nbformat_minor": 5
}
